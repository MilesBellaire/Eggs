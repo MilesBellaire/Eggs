{
  "cells": [
    {
      "cell_type": "code",
      "execution_count": null,
      "metadata": {
        "colab": {
          "base_uri": "https://localhost:8080/"
        },
        "id": "WRrK_bmDs5yr",
        "outputId": "615c937b-590f-4cfd-9159-ad06b55d15f0"
      },
      "outputs": [
        {
          "name": "stdout",
          "output_type": "stream",
          "text": [
            "rmdir: failed to remove '/content/drive/MyDrive/Eggs/.ipynb_checkpoints': No such file or directory\n"
          ]
        }
      ],
      "source": [
        "rmdir /content/drive/MyDrive/Eggs/.ipynb_checkpoints"
      ]
    },
    {
      "cell_type": "code",
      "execution_count": null,
      "metadata": {
        "id": "E0QrwWOt1VUu"
      },
      "outputs": [],
      "source": []
    },
    {
      "cell_type": "code",
      "execution_count": null,
      "metadata": {
        "id": "w2NuFJyAP_0o"
      },
      "outputs": [],
      "source": [
        "# rmdir /content/Test_Data/nonviable/.ipynb_checkpoints"
      ]
    },
    {
      "cell_type": "code",
      "execution_count": null,
      "metadata": {
        "colab": {
          "base_uri": "https://localhost:8080/"
        },
        "id": "xXRb-3RcIbHM",
        "outputId": "61780b55-6b0f-4837-f0b7-b4d7190dd523"
      },
      "outputs": [
        {
          "name": "stdout",
          "output_type": "stream",
          "text": [
            "True\n",
            "Mounted at /content/drive\n"
          ]
        }
      ],
      "source": [
        "from google.colab import drive\n",
        "import torch\n",
        "\n",
        "print(torch.cuda.is_available())\n",
        "# drive.mount('/content/drive')\n",
        "drive.mount(\"/content/drive\", force_remount=True)"
      ]
    },
    {
      "cell_type": "markdown",
      "metadata": {
        "id": "r9d29G1cBF0V"
      },
      "source": [
        "# Load and transform data"
      ]
    },
    {
      "cell_type": "code",
      "execution_count": null,
      "metadata": {
        "id": "3SwuOw-B7HM6"
      },
      "outputs": [],
      "source": [
        "from torch.utils.data import Dataset\n",
        "from os.path import join\n",
        "from os import listdir\n",
        "\n",
        "class transformed_data1(Dataset):\n",
        "  def __init__(self, img, mask):\n",
        "    self.img = img  #img path\n",
        "    self.mask = mask  #mask path\n",
        "    self.len = len(listdir(self.img))\n",
        "\n",
        "  def __getitem__(self, index):\n",
        "    ls_img = sorted(listdir(self.img))\n",
        "    ls_mask = sorted(listdir(self.mask))\n",
        "\n",
        "    img_file_path = join(self.img, ls_img[index])\n",
        "    img_tensor = torch.load(img_file_path)\n",
        "\n",
        "    mask_file_path = join(self.mask, ls_mask[index])\n",
        "    mask_tensor = torch.load(mask_file_path)\n",
        "\n",
        "    return img_tensor, mask_tensor\n",
        "\n",
        "  def __len__(self):\n",
        "    return self.len"
      ]
    },
    {
      "cell_type": "code",
      "execution_count": null,
      "metadata": {
        "colab": {
          "base_uri": "https://localhost:8080/"
        },
        "id": "gVimM677441-",
        "outputId": "f7e428f6-2b81-4d8b-dc85-eefcb189d21e"
      },
      "outputs": [
        {
          "name": "stdout",
          "output_type": "stream",
          "text": [
            "Test: 10.0% 20.0% 30.0% 40.0% 50.0% 60.0% 70.0% 79.0% 89.0% 99.0% Done\n",
            "Train: 10.0% 20.0% 30.0% 40.0% 50.0% 60.0% 70.0% 80.0% 90.0% Done\n",
            "614\n",
            "2375\n"
          ]
        }
      ],
      "source": [
        "from torchvision import datasets, transforms\n",
        "from torch.utils.data import DataLoader\n",
        "from os.path import exists\n",
        "from os import mkdir\n",
        "\n",
        "base = '/content/drive/MyDrive/Eggs'\n",
        "data_dir = base + '/April_Set'\n",
        "train_dir = data_dir + '/training'\n",
        "test_dir = data_dir + '/testing'\n",
        "\n",
        "transform = transforms.Compose([transforms.Resize(255),\n",
        "                                 transforms.CenterCrop(224),\n",
        "                                 transforms.ToTensor(),\n",
        "                                 transforms.Normalize((0.5, 0.5, 0.5), (0.5, 0.5, 0.5)),\n",
        "                                #  transforms.RandomInvert(),\n",
        "                                #  transforms.RandomRotation(30),\n",
        "                                # transforms.RandomCrop(1)\n",
        "])\n",
        "\n",
        "importing_tst_data = datasets.ImageFolder(test_dir,\n",
        "                               transform=transform)\n",
        "importing_trn_data = datasets.ImageFolder(train_dir,\n",
        "                               transform=transform)\n",
        "\n",
        "loader_dir = '/content/loader'\n",
        "loader_dir =  base + '/loader'\n",
        "test_loader = loader_dir + '/test_loader'\n",
        "train_loader = loader_dir + '/train_loader'\n",
        "\n",
        "if not (exists(test_loader) and exists(train_loader)):\n",
        "    mkdir(loader_dir)\n",
        "    mkdir(test_loader)\n",
        "    mkdir(train_loader)\n",
        "    mkdir(test_loader + '/img')\n",
        "    mkdir(test_loader + '/mask')\n",
        "    mkdir(train_loader + '/img')\n",
        "    mkdir(train_loader + '/mask')\n",
        "\n",
        "    testing_tensors = []\n",
        "    training_tensors = []\n",
        "    print(\"Test: \", end=\"\")\n",
        "    for i, data in enumerate(importing_tst_data):\n",
        "        if not (i+1)%round(len(importing_tst_data)/10,0): print(f\"{round(100*(i+1)/len(importing_tst_data),0)}%\", end=\" \")\n",
        "        torch.save(data[0], test_loader + '/img/test_transformed_img{}'.format(i))\n",
        "        torch.save(data[1], test_loader + '/mask/test_transformed_mask{}'.format(i))\n",
        "        testing_tensors.append(data)\n",
        "    print(\"Done\")\n",
        "    print(\"Train: \", end=\"\")\n",
        "    for i, data in enumerate(importing_trn_data):\n",
        "        if not (i+1)%round(len(importing_trn_data)/10,0): print(f\"{round(100*(i+1)/len(importing_trn_data),0)}%\", end=\" \")\n",
        "        torch.save(data[0], train_loader + '/img/train_transformed_img{}'.format(i))\n",
        "        torch.save(data[1], train_loader + '/mask/train_transformed_mask{}'.format(i))\n",
        "        training_tensors.append(data)\n",
        "    print(\"Training Done\")\n",
        "else:\n",
        "    importing_tst_data = transformed_data1(test_loader + '/img', test_loader + '/mask')\n",
        "    importing_trn_data = transformed_data1(train_loader + '/img', train_loader + '/mask')\n",
        "\n",
        "    testing_tensors = []\n",
        "    training_tensors = []\n",
        "    print(\"Test: \", end=\"\")\n",
        "    for i, data in enumerate(importing_tst_data):\n",
        "        if not (i+1)%round(len(importing_tst_data)/10,0): print(f\"{round(100*(i+1)/len(importing_tst_data),0)}%\", end=\" \")\n",
        "        testing_tensors.append(data)\n",
        "    print(\"Done\")\n",
        "    print(\"Train: \", end=\"\")\n",
        "    for i, data in enumerate(importing_trn_data):\n",
        "        if not (i+1)%round(len(importing_trn_data)/10,0): print(f\"{round(100*(i+1)/len(importing_trn_data),0)}%\", end=\" \")\n",
        "        training_tensors.append(data)\n",
        "    print(\"Done\")\n",
        "\n",
        "\n",
        "print(len(testing_tensors))\n",
        "print(len(training_tensors))"
      ]
    },
    {
      "cell_type": "code",
      "execution_count": null,
      "metadata": {
        "colab": {
          "base_uri": "https://localhost:8080/"
        },
        "id": "aaWQlkrPv6fK",
        "outputId": "90aba0c0-9560-4266-ebc0-d3394996f6be"
      },
      "outputs": [
        {
          "name": "stdout",
          "output_type": "stream",
          "text": [
            "Drive already mounted at /content/drive; to attempt to forcibly remount, call drive.mount(\"/content/drive\", force_remount=True).\n"
          ]
        }
      ],
      "source": [
        "from google.colab import drive\n",
        "drive.mount('/content/drive')"
      ]
    },
    {
      "cell_type": "code",
      "execution_count": null,
      "metadata": {
        "id": "lxizllzjYvy8"
      },
      "outputs": [],
      "source": [
        "transform = transforms.Compose([transforms.Resize(255),\n",
        "                                 transforms.CenterCrop(224),\n",
        "                                 transforms.ToTensor(),\n",
        "                                 transforms.Normalize((0.5, 0.5, 0.5), (0.5, 0.5, 0.5)),\n",
        "])\n",
        "trn_data = datasets.ImageFolder(train_dir,\n",
        "                               transform=transform)"
      ]
    },
    {
      "cell_type": "code",
      "execution_count": null,
      "metadata": {
        "colab": {
          "background_save": true,
          "base_uri": "https://localhost:8080/"
        },
        "id": "asYpb2IZNG83",
        "outputId": "23f5f3d4-1863-4468-c90f-854474cf9d23"
      },
      "outputs": [
        {
          "name": "stdout",
          "output_type": "stream",
          "text": [
            "Test: 11.0% 22.0% 33.0% 44.0% 56.0% 67.0% 78.0% 89.0% 100.0% Done\n"
          ]
        }
      ],
      "source": [
        "from torchvision import datasets, transforms\n",
        "from torch.utils.data import DataLoader\n",
        "from os.path import exists\n",
        "\n",
        "testing_directory = \"/content/drive/MyDrive/Eggs/Test Set (Dec 2022)/Test Set (Dec 2022)\"\n",
        "# testing_directory = \"/content/drive/MyDrive/Eggs/Another_Test_Set\"\n",
        "# testing_directory = \"/content/drive/MyDrive/Eggs/3-4  Testset\"\n",
        "# testing_directory = \"/content/drive/MyDrive/Eggs/April 2023 Images\"\n",
        "if exists(testing_directory):\n",
        "    transform = transforms.Compose([transforms.Resize(255),\n",
        "                                 transforms.CenterCrop(224),\n",
        "                                 transforms.ToTensor(),\n",
        "                                 transforms.Normalize((0.5, 0.5, 0.5), (0.5, 0.5, 0.5)),\n",
        "    ])\n",
        "    importing_tst_data = datasets.ImageFolder(testing_directory,\n",
        "                               transform=transform)\n",
        "    # training_tensors = []\n",
        "    testing_tensors2 = []\n",
        "    print(\"Test: \", end=\"\")\n",
        "    for i, data in enumerate(importing_tst_data):\n",
        "        if not (i+1)%round(len(importing_tst_data)/10,0): print(f\"{round(100*(i+1)/len(importing_tst_data),0)}%\", end=\" \")\n",
        "        testing_tensors2.append(data)\n",
        "    print(\"Done\")"
      ]
    },
    {
      "cell_type": "code",
      "execution_count": null,
      "metadata": {
        "id": "-4yPyiMBQ1_7"
      },
      "outputs": [],
      "source": [
        "# prev_test_tensors = testing_tensors.copy()\n",
        "# testing_tensors.extend(testing_tensors2)"
      ]
    },
    {
      "cell_type": "markdown",
      "metadata": {
        "id": "Zsna4pC5HpQo"
      },
      "source": [
        "# Initialize Data Loaders"
      ]
    },
    {
      "cell_type": "code",
      "execution_count": null,
      "metadata": {
        "id": "VTBytPjaRMLX"
      },
      "outputs": [],
      "source": [
        "from torch.utils.data import Dataset\n",
        "\n",
        "class transformed_data(Dataset):\n",
        "  def __init__(self, arr):\n",
        "    self.arr = arr\n",
        "    self.len = len(arr)\n",
        "\n",
        "  def __getitem__(self, index):\n",
        "    return self.arr[index][0], self.arr[index][1]\n",
        "\n",
        "  def __len__(self):\n",
        "    return self.len"
      ]
    },
    {
      "cell_type": "code",
      "execution_count": null,
      "metadata": {
        "colab": {
          "base_uri": "https://localhost:8080/",
          "height": 235
        },
        "id": "7K38jyb7TZib",
        "outputId": "53935322-29fb-4bc3-805a-e5b59a14b6d2"
      },
      "outputs": [
        {
          "ename": "NameError",
          "evalue": "ignored",
          "output_type": "error",
          "traceback": [
            "\u001b[0;31m---------------------------------------------------------------------------\u001b[0m",
            "\u001b[0;31mNameError\u001b[0m                                 Traceback (most recent call last)",
            "\u001b[0;32m<ipython-input-8-0747fcc952a7>\u001b[0m in \u001b[0;36m<cell line: 1>\u001b[0;34m()\u001b[0m\n\u001b[0;32m----> 1\u001b[0;31m \u001b[0mtst_data\u001b[0m \u001b[0;34m=\u001b[0m \u001b[0mtransformed_data\u001b[0m\u001b[0;34m(\u001b[0m\u001b[0mtesting_tensors\u001b[0m\u001b[0;34m)\u001b[0m\u001b[0;34m\u001b[0m\u001b[0;34m\u001b[0m\u001b[0m\n\u001b[0m\u001b[1;32m      2\u001b[0m \u001b[0mtrn_data\u001b[0m \u001b[0;34m=\u001b[0m \u001b[0mtransformed_data\u001b[0m\u001b[0;34m(\u001b[0m\u001b[0mtraining_tensors\u001b[0m\u001b[0;34m)\u001b[0m\u001b[0;34m\u001b[0m\u001b[0;34m\u001b[0m\u001b[0m\n\u001b[1;32m      3\u001b[0m \u001b[0mtst2_data\u001b[0m \u001b[0;34m=\u001b[0m \u001b[0mtransformed_data\u001b[0m\u001b[0;34m(\u001b[0m\u001b[0mtesting_tensors2\u001b[0m\u001b[0;34m)\u001b[0m\u001b[0;34m\u001b[0m\u001b[0;34m\u001b[0m\u001b[0m\n\u001b[1;32m      4\u001b[0m \u001b[0;34m\u001b[0m\u001b[0m\n\u001b[1;32m      5\u001b[0m \u001b[0mprint\u001b[0m\u001b[0;34m(\u001b[0m\u001b[0mtst_data\u001b[0m\u001b[0;34m.\u001b[0m\u001b[0m__len__\u001b[0m\u001b[0;34m(\u001b[0m\u001b[0;34m)\u001b[0m\u001b[0;34m)\u001b[0m\u001b[0;34m\u001b[0m\u001b[0;34m\u001b[0m\u001b[0m\n",
            "\u001b[0;31mNameError\u001b[0m: name 'testing_tensors' is not defined"
          ]
        }
      ],
      "source": [
        "tst_data = transformed_data(testing_tensors)\n",
        "trn_data = transformed_data(training_tensors)\n",
        "tst2_data = transformed_data(testing_tensors2)\n",
        "\n",
        "print(tst_data.__len__())\n",
        "print(trn_data.__len__())\n",
        "print(tst2_data.__len__())"
      ]
    },
    {
      "cell_type": "code",
      "execution_count": null,
      "metadata": {
        "colab": {
          "base_uri": "https://localhost:8080/"
        },
        "id": "0ag36-fxAnP3",
        "outputId": "05d70be6-2a4d-4785-8273-8fc6442595e9"
      },
      "outputs": [
        {
          "name": "stdout",
          "output_type": "stream",
          "text": [
            "Train: The number of batches per epoch is:  88\n",
            "Test: The number of batches per epoch is:  23\n",
            "Test2: The number of batches per epoch is:  1\n"
          ]
        }
      ],
      "source": [
        "from torch.utils.data import DataLoader\n",
        "\n",
        "batch_size = 27\n",
        "classes = ['nonviable', 'viable']\n",
        "number_of_labels = len(classes)\n",
        "\n",
        "trn_loader = DataLoader(trn_data,\n",
        "                        batch_size=batch_size,\n",
        "                        shuffle=True,\n",
        "                        pin_memory=True,\n",
        "                        pin_memory_device=\"cuda:0\",\n",
        "                        num_workers=2,\n",
        "                        persistent_workers=True)\n",
        "tst_loader = DataLoader(tst_data,\n",
        "                        batch_size=batch_size,\n",
        "                        shuffle=True,\n",
        "                        pin_memory=True,\n",
        "                        pin_memory_device=\"cuda:0\",\n",
        "                        num_workers=2,\n",
        "                        persistent_workers=True)\n",
        "\n",
        "tst2_loader = DataLoader(tst2_data,\n",
        "                        batch_size=batch_size,\n",
        "                        shuffle=False,\n",
        "                        pin_memory=True,\n",
        "                        pin_memory_device=\"cuda:0\",\n",
        "                        num_workers=2,\n",
        "                        persistent_workers=True)\n",
        "\n",
        "print(\"Train: The number of batches per epoch is: \", len(trn_loader))\n",
        "print(\"Test: The number of batches per epoch is: \", len(tst_loader))\n",
        "print(\"Test2: The number of batches per epoch is: \", len(tst2_loader))"
      ]
    },
    {
      "cell_type": "code",
      "execution_count": null,
      "metadata": {
        "colab": {
          "base_uri": "https://localhost:8080/"
        },
        "id": "kHbCqQSncAq9",
        "outputId": "fc639ef3-3f55-4be5-ad52-44988a3e4195"
      },
      "outputs": [
        {
          "name": "stdout",
          "output_type": "stream",
          "text": [
            "testing: 1 2 3 4 5 6 7 8 9 10 11 12 13 14 15 16 17 18 19 20 21 22 23 \n",
            "training: 1 2 3 4 5 6 7 8 9 10 11 12 13 14 15 16 17 18 19 20 21 22 23 24 25 26 27 28 29 30 31 32 33 34 35 36 37 38 39 40 41 42 43 44 45 46 47 48 49 50 51 52 53 54 55 56 57 58 59 60 61 62 63 64 65 66 67 68 69 70 71 72 73 74 75 76 77 78 79 80 81 82 83 84 85 86 87 88 "
          ]
        }
      ],
      "source": [
        "from PIL import ImageFile, Image\n",
        "from sys import getsizeof\n",
        "ImageFile.LOAD_TRUNCATED_IMAGES = True\n",
        "\n",
        "data_iter = iter(trn_loader)\n",
        "\n",
        "next_batch = next(data_iter) # start loading the first batch\n",
        "next_batch = [ _.cuda(non_blocking=True) for _ in next_batch ]  # with pin_memory=True and non_blocking=True, this will copy data to GPU non blockingly\n",
        "\n",
        "# images, labels = next_batch\n",
        "# print(getsizeof(images))\n",
        "# print(images.dim())\n",
        "# print(labels)\n",
        "# print(images)\n",
        "\n",
        "print(\"testing: \", end=\"\")\n",
        "for i in range(len(tst_loader)):\n",
        "    print(i+1, end=\" \")\n",
        "    batch = next_batch\n",
        "    if i + 2 != len(tst_loader):\n",
        "        # start copying data of next batch\n",
        "        next_batch = next(data_iter)\n",
        "        next_batch = [ _.cuda(non_blocking=True) for _ in next_batch]\n",
        "print()\n",
        "data_iter = iter(trn_loader)\n",
        "\n",
        "next_batch = next(data_iter) # start loading the first batch\n",
        "next_batch = [ _.cuda(non_blocking=True) for _ in next_batch ]  # with pin_memory=True and non_blocking=True, this will copy data to GPU non blockingly\n",
        "\n",
        "# images, labels = next_batch\n",
        "# print(getsizeof(images))\n",
        "# print(images.dim())\n",
        "# print(labels)\n",
        "# print(images)\n",
        "print(\"training: \", end=\"\")\n",
        "for i in range(len(trn_loader)):\n",
        "    print(i+1, end=\" \")\n",
        "    batch = next_batch\n",
        "    if i + 2 != len(trn_loader):\n",
        "        # start copying data of next batch\n",
        "        next_batch = next(data_iter)\n",
        "        next_batch = [ _.cuda(non_blocking=True) for _ in next_batch]"
      ]
    },
    {
      "cell_type": "markdown",
      "metadata": {
        "id": "4kqq-1jHAIq-"
      },
      "source": [
        "# Model"
      ]
    },
    {
      "cell_type": "code",
      "execution_count": null,
      "metadata": {
        "id": "JGnYUZivjSCN"
      },
      "outputs": [],
      "source": [
        "import torch\n",
        "import torch.nn as nn\n",
        "import torchvision\n",
        "import torch.nn.functional as F\n",
        "\n",
        "from PIL import ImageFile, Image\n",
        "ImageFile.LOAD_TRUNCATED_IMAGES = True\n",
        "\n",
        "class Network(nn.Module):\n",
        "    def __init__(self, num_classes=2):\n",
        "        super(Network, self).__init__()\n",
        "\n",
        "        self.conv1 = nn.Conv2d(in_channels=3, out_channels=12, kernel_size=3, stride=1, padding=1)\n",
        "        self.relu1 = nn.ReLU()\n",
        "\n",
        "        self.conv2 = nn.Conv2d(in_channels=12, out_channels=12, kernel_size=3, stride=1, padding=1)\n",
        "        self.relu2 = nn.ReLU()\n",
        "\n",
        "        self.pool = nn.MaxPool2d(kernel_size=2, stride=2)\n",
        "\n",
        "        self.conv3 = nn.Conv2d(in_channels=12, out_channels=24, kernel_size=3, stride=1, padding=1)\n",
        "        self.relu3 = nn.ReLU()\n",
        "\n",
        "        self.conv4 = nn.Conv2d(in_channels=24, out_channels=24, kernel_size=3, stride=1, padding=1)\n",
        "        self.relu4 = nn.ReLU()\n",
        "\n",
        "        self.fc = nn.Linear(in_features=112 * 112 * 24, out_features=num_classes)\n",
        "\n",
        "    def forward(self, input):\n",
        "        output = self.conv1(input)\n",
        "        output = self.relu1(output)\n",
        "\n",
        "        output = self.conv2(output)\n",
        "        output = self.relu2(output)\n",
        "\n",
        "        output = self.pool(output)\n",
        "\n",
        "        output = self.conv3(output)\n",
        "        output = self.relu3(output)\n",
        "\n",
        "        output = self.conv4(output)\n",
        "        output = self.relu4(output)\n",
        "        # print(output.shape)\n",
        "        output = output.view(-1, 112 * 112 * 24)\n",
        "\n",
        "        output = self.fc(output)\n",
        "\n",
        "        return output\n",
        "\n",
        "# Instantiate a neural network model\n",
        "model = Network()"
      ]
    },
    {
      "cell_type": "markdown",
      "metadata": {
        "id": "1k6NuSSnwuB9"
      },
      "source": [
        "Transfer learning\n",
        "\n",
        "https://pytorch.org/vision/stable/models.html"
      ]
    },
    {
      "cell_type": "code",
      "execution_count": null,
      "metadata": {
        "colab": {
          "base_uri": "https://localhost:8080/"
        },
        "id": "2khOj02PXmBH",
        "outputId": "d1a657b7-f8ab-41c1-ef3e-16c0589667e0"
      },
      "outputs": [
        {
          "name": "stderr",
          "output_type": "stream",
          "text": [
            "Downloading: \"https://download.pytorch.org/models/resnet50-11ad3fa6.pth\" to /root/.cache/torch/hub/checkpoints/resnet50-11ad3fa6.pth\n",
            "100%|██████████| 97.8M/97.8M [00:01<00:00, 63.6MB/s]\n"
          ]
        }
      ],
      "source": [
        "from torchvision.models import resnet50, ResNet50_Weights\n",
        "\n",
        "model = resnet50(weights=ResNet50_Weights.DEFAULT)"
      ]
    },
    {
      "cell_type": "code",
      "execution_count": null,
      "metadata": {
        "id": "KtDovVtWFxjo"
      },
      "outputs": [],
      "source": [
        "from torch.optim import Adam\n",
        "\n",
        "# Define the loss function with Classification Cross-Entropy loss and an optimizer with Adam optimizer\n",
        "loss_fn = nn.CrossEntropyLoss()\n",
        "optimizer = Adam(model.parameters(), lr=0.00001, weight_decay=0.00001)"
      ]
    },
    {
      "cell_type": "markdown",
      "metadata": {
        "id": "ARXN1JuJABYc"
      },
      "source": [
        "# Training and Testing Functions"
      ]
    },
    {
      "cell_type": "code",
      "execution_count": null,
      "metadata": {
        "id": "VbGcuPjl_9cC"
      },
      "outputs": [],
      "source": [
        "from torch.autograd import Variable\n",
        "\n",
        "# Function to save the model\n",
        "def saveModel():\n",
        "    path = \"./myFirstModel.pth\"\n",
        "    torch.save(model.state_dict(), path)\n",
        "\n",
        "# Function to test the model with the test dataset and print the accuracy for the test images\n",
        "def testAccuracy(loader: DataLoader):\n",
        "\n",
        "    model.eval()\n",
        "    accuracy = 0.0\n",
        "    total = 0.0\n",
        "    device = torch.device(\"cuda:0\" if torch.cuda.is_available() else \"cpu\")\n",
        "\n",
        "\n",
        "    with torch.no_grad():\n",
        "        for data in loader:\n",
        "            images, labels = data\n",
        "\n",
        "            images = Variable(images.to(device))\n",
        "            labels = Variable(labels.to(device))\n",
        "            # inputs, labels = inputs.cuda(), labels.cuda()\n",
        "            # run the model on the test set to predict labels\n",
        "            outputs = model(images)\n",
        "            # the label with the highest energy will be our prediction\n",
        "            _, predicted = torch.max(outputs.data, 1)\n",
        "            total += labels.size(0)\n",
        "            accuracy += (predicted == labels).sum().item()\n",
        "\n",
        "    # compute the accuracy over all test images\n",
        "    accuracy = (100 * accuracy / total)\n",
        "    return(accuracy)\n",
        "\n",
        "\n",
        "# Training function. We simply have to loop over our data iterator and feed the inputs to the network and optimize.\n",
        "def train(num_epochs, bench_mark = 0):\n",
        "\n",
        "    best_accuracy = bench_mark\n",
        "    acc_arr = [[],[]]\n",
        "    # Define your execution device\n",
        "    device = torch.device(\"cuda:0\" if torch.cuda.is_available() else \"cpu\")\n",
        "    print(\"The model will be running on\", device, \"device\")\n",
        "    # Convert model parameters and buffers to CPU or Cuda\n",
        "    model.to(device)\n",
        "\n",
        "    for epoch in range(num_epochs):  # loop over the dataset multiple times\n",
        "        running_loss = 0.0\n",
        "        running_acc = 0.0\n",
        "\n",
        "        for i, (images, labels) in enumerate(trn_loader, 0):\n",
        "\n",
        "            # get the inputs\n",
        "            images = Variable(images.to(device))\n",
        "            labels = Variable(labels.to(device))\n",
        "\n",
        "            # zero the parameter gradients\n",
        "            optimizer.zero_grad()\n",
        "            # predict classes using images from the training set\n",
        "            outputs = model(images)\n",
        "            # compute the loss based on model output and real labels\n",
        "            loss = loss_fn(outputs, labels)\n",
        "            # backpropagate the loss\n",
        "            loss.backward()\n",
        "            # adjust parameters based on the calculated gradients\n",
        "            optimizer.step()\n",
        "\n",
        "            # Let's print statistics for every 1,000 images\n",
        "            running_loss += loss.item()     # extract the loss value\n",
        "            if i % 1000 == 999:\n",
        "                # print every 1000 (twice per epoch)\n",
        "                print('[%d, %5d] loss: %.3f' %\n",
        "                      (epoch + 1, i + 1, running_loss / 1000))\n",
        "                # zero the loss\n",
        "                running_loss = 0.0\n",
        "\n",
        "        # Compute and print the average accuracy fo this epoch when tested over all 10000 test images\n",
        "        accuracy = testAccuracy(tst_loader)\n",
        "        acc_arr[1].append(testAccuracy(trn_loader))\n",
        "        acc_arr[0].append(accuracy)\n",
        "\n",
        "        # we want to save the model if the accuracy is the best\n",
        "        if accuracy > best_accuracy:\n",
        "            print('epoch %2d - accuracy: %3d%% - new best' % (epoch+1, accuracy))\n",
        "            saveModel()\n",
        "            best_accuracy = accuracy\n",
        "        elif (epoch+1)%10 == 0:\n",
        "\n",
        "            print('epoch %2d - accuracy: %3d%%' % (epoch+1, accuracy))\n",
        "    return acc_arr"
      ]
    },
    {
      "cell_type": "code",
      "execution_count": null,
      "metadata": {
        "id": "N0x4o0NtjVcA"
      },
      "outputs": [],
      "source": [
        "import matplotlib.pyplot as plt\n",
        "import numpy as np\n",
        "\n",
        "# Function to show the images\n",
        "def imageshow(img):\n",
        "    img = img / 2 + 0.5     # unnormalize\n",
        "    npimg = img.numpy()\n",
        "    plt.imshow(np.transpose(npimg, (1, 2, 0)))\n",
        "    plt.show()\n",
        "\n",
        "\n",
        "# Function to test the model with a batch of images and show the labels predictions\n",
        "def testBatch(model, loader: DataLoader):\n",
        "    # get batch of images from the test DataLoader\n",
        "    images, labels = next(iter(loader))\n",
        "\n",
        "    # show all images as one image grid\n",
        "    imageshow(torchvision.utils.make_grid(images))\n",
        "    print('    Indices: ', ' '.join('%9s' % j\n",
        "                               for j in range(len(labels))))\n",
        "    # Show the real labels on the screen\n",
        "    print('Real labels: ', ' '.join('%9s' % classes[labels[j]]\n",
        "                               for j in range(len(labels))))\n",
        "\n",
        "    # Let's see what if the model identifiers the  labels of those example\n",
        "    images, labels = images.cuda(), labels.cuda()\n",
        "    outputs = model(images)\n",
        "\n",
        "    # We got the probability for every 10 labels. The highest (max) probability should be correct label\n",
        "    _, predicted = torch.max(outputs, 1)\n",
        "\n",
        "    # Let's show the predicted labels on the screen to compare with the real ones\n",
        "    print('  Predicted: ', ' '.join('%9s' % classes[predicted[j]]\n",
        "                              for j in range(len(labels))))\n",
        "\n",
        "# Function to test what classes performed well\n",
        "def testClasses(loader: DataLoader):\n",
        "    class_correct = list(0. for i in range(number_of_labels))\n",
        "    class_total = list(0. for i in range(number_of_labels))\n",
        "    with torch.no_grad():\n",
        "        for data in loader:\n",
        "            images, labels = data\n",
        "            images, labels = images.cuda(), labels.cuda()\n",
        "            outputs = model(images)\n",
        "            _, predicted = torch.max(outputs, 1)\n",
        "            c = (predicted == labels).squeeze()\n",
        "            for i in range(len(predicted)):\n",
        "                label = labels[i]\n",
        "                class_correct[label] += c[i].item()\n",
        "                class_total[label] += 1\n",
        "\n",
        "    for i in range(number_of_labels):\n",
        "        print('Accuracy of %5s : %2d %%' % (\n",
        "            classes[i], 100 * class_correct[i] / class_total[i]))\n",
        "    print('Total Accuracy: %2d %%' % (100*np.sum(class_correct)/np.sum(class_total)))"
      ]
    },
    {
      "cell_type": "code",
      "execution_count": null,
      "metadata": {
        "id": "Wai8huacJMqK"
      },
      "outputs": [],
      "source": [
        "from sklearn.metrics import confusion_matrix, ConfusionMatrixDisplay\n",
        "import matplotlib.pyplot as plt\n",
        "def c_matrix(loader:DataLoader):\n",
        "    predicted = []\n",
        "    true = []\n",
        "    with torch.no_grad():\n",
        "        for data in loader:\n",
        "            images, labels = data\n",
        "            outputs = model(images)\n",
        "            _, pred = torch.max(outputs, 1)\n",
        "            predicted.extend(pred.tolist())\n",
        "            true.extend(labels.tolist())\n",
        "            # c = (predicted == labels).squeeze()\n",
        "            # for i in range(len(predicted)):\n",
        "            #     label = labels[i]\n",
        "            #     class_correct[label] += c[i].item()\n",
        "            #     class_total[label] += 1\n",
        "\n",
        "    return confusion_matrix(true, predicted)\n"
      ]
    },
    {
      "cell_type": "code",
      "execution_count": null,
      "metadata": {
        "id": "e6a42B_v3nQL"
      },
      "outputs": [],
      "source": [
        "import torch\n",
        "import torchvision\n",
        "import matplotlib.pyplot as plt\n",
        "\n",
        "def print_wrong(loader:DataLoader):\n",
        "  # Evaluate the model on the test dataset\n",
        "  model.eval()\n",
        "  cur = 0\n",
        "\n",
        "  with torch.no_grad():\n",
        "      for images, labels in loader:\n",
        "          # images, labels = images.cuda(), labels.cuda()\n",
        "          # Get the predicted class for each image\n",
        "          outputs = model(images)\n",
        "          _, predicted = torch.max(outputs, 1)\n",
        "\n",
        "          # Check which images are misclassified\n",
        "          mask = predicted != labels\n",
        "\n",
        "          # If any images are misclassified, save them\n",
        "          if mask.any():\n",
        "              misclassified_images = images[mask]\n",
        "              misclassified_labels = labels[mask]\n",
        "              misclassified_predictions = predicted[mask]\n",
        "\n",
        "              for i in range(len(misclassified_images)):\n",
        "                  img = torchvision.utils.make_grid(misclassified_images[i])\n",
        "                  img = img.numpy().transpose((1, 2, 0))\n",
        "                  plt.imshow(img)\n",
        "                  plt.title('Predicted: {}, Actual: {}'.format(misclassified_predictions[i], misclassified_labels[i]))\n",
        "                  plt.savefig('misclassified_{}.png'.format(cur))\n",
        "                  cur+=1"
      ]
    },
    {
      "cell_type": "code",
      "execution_count": null,
      "metadata": {
        "id": "B6cps2oGRVMf"
      },
      "outputs": [],
      "source": [
        "from sklearn.metrics import confusion_matrix\n",
        "import seaborn as sn\n",
        "import pandas as pd\n",
        "def c_matrix(loader:DataLoader):\n",
        "    y_pred = []\n",
        "    y_true = []\n",
        "\n",
        "    # iterate over test data\n",
        "    for inputs, labels in loader:\n",
        "            # inputs, labels = inputs.cuda(), labels.cuda()\n",
        "            output = model(inputs) # Feed Network\n",
        "\n",
        "            output = (torch.max(torch.exp(output), 1)[1]).data.cpu().numpy()\n",
        "            y_pred.extend(output) # Save Prediction\n",
        "\n",
        "            labels = labels.data.cpu().numpy()\n",
        "            y_true.extend(labels) # Save Truth\n",
        "\n",
        "    # constant for classes\n",
        "    classes = ('NonViable', 'Viable')\n",
        "\n",
        "    # print(len(y_pred))\n",
        "    #print(len(y_true))\n",
        "\n",
        "    # Build confusion matrix\n",
        "    cf_matrix = confusion_matrix(y_true, y_pred)\n",
        "    df_cm = pd.DataFrame(cf_matrix/len(y_pred), index = ['True NonViable', 'True Viable'],\n",
        "                        columns = ['Predicted Nonviable', ' Predicted Viable'])\n",
        "    plt.figure(figsize = (12,7))\n",
        "    sn.heatmap(df_cm, annot=True)\n",
        "    plt.savefig('output.png')\n",
        "    plt.show()"
      ]
    },
    {
      "cell_type": "markdown",
      "metadata": {
        "id": "l5AQBsMA_jl1"
      },
      "source": [
        "# Train and Test"
      ]
    },
    {
      "cell_type": "code",
      "execution_count": null,
      "metadata": {
        "colab": {
          "base_uri": "https://localhost:8080/",
          "height": 588
        },
        "id": "Pdf_2mXtjtpb",
        "outputId": "427d76a2-bf09-4932-a3b7-f3b47153c65b"
      },
      "outputs": [
        {
          "name": "stdout",
          "output_type": "stream",
          "text": [
            "The model will be running on cuda:0 device\n",
            "epoch  1 - accuracy:  95% - new best\n",
            "epoch  2 - accuracy:  96% - new best\n",
            "epoch  3 - accuracy:  97% - new best\n",
            "epoch  4 - accuracy:  97% - new best\n",
            "epoch 10 - accuracy:  97%\n",
            "97.39413680781759\n"
          ]
        },
        {
          "data": {
            "image/png": "[encoded data removed]",
            "text/plain": [
              "<Figure size 640x480 with 1 Axes>"
            ]
          },
          "metadata": {},
          "output_type": "display_data"
        },
        {
          "name": "stdout",
          "output_type": "stream",
          "text": [
            "Finished Training\n"
          ]
        }
      ],
      "source": [
        "import matplotlib.pyplot as plt\n",
        "\n",
        "# Let's build our model\n",
        "arr = train(10, 0)\n",
        "print(testAccuracy(tst_loader))\n",
        "plt.plot(arr[0], label='Testing')\n",
        "plt.plot(arr[1], label='Training')\n",
        "plt.ylabel(\"Accuracy\")\n",
        "plt.xlabel(\"Epochs\")\n",
        "plt.legend(loc='upper center')\n",
        "plt.show()\n",
        "print('Finished Training')\n"
      ]
    },
    {
      "cell_type": "code",
      "execution_count": null,
      "metadata": {
        "colab": {
          "base_uri": "https://localhost:8080/",
          "height": 235
        },
        "id": "XZmKeeN33yUs",
        "outputId": "9fff6088-6536-4c1d-c93e-59dda0f3a8d0"
      },
      "outputs": [
        {
          "ename": "NameError",
          "evalue": "ignored",
          "output_type": "error",
          "traceback": [
            "\u001b[0;31m---------------------------------------------------------------------------\u001b[0m",
            "\u001b[0;31mNameError\u001b[0m                                 Traceback (most recent call last)",
            "\u001b[0;32m<ipython-input-1-866e8767f6bb>\u001b[0m in \u001b[0;36m<cell line: 1>\u001b[0;34m()\u001b[0m\n\u001b[0;32m----> 1\u001b[0;31m \u001b[0mcf_matrix\u001b[0m \u001b[0;34m=\u001b[0m \u001b[0mc_matrix\u001b[0m\u001b[0;34m(\u001b[0m\u001b[0my_true\u001b[0m\u001b[0;34m,\u001b[0m \u001b[0my_pred\u001b[0m\u001b[0;34m)\u001b[0m\u001b[0;34m\u001b[0m\u001b[0;34m\u001b[0m\u001b[0m\n\u001b[0m\u001b[1;32m      2\u001b[0m \u001b[0;34m\u001b[0m\u001b[0m\n\u001b[1;32m      3\u001b[0m df_cm = pd.DataFrame(cf_matrix/len(y_pred), index = ['True NonViable', 'True Viable'],\n\u001b[1;32m      4\u001b[0m                     columns = ['Predicted Nonviable', ' Predicted Viable'])\n\u001b[1;32m      5\u001b[0m \u001b[0mplt\u001b[0m\u001b[0;34m.\u001b[0m\u001b[0mfigure\u001b[0m\u001b[0;34m(\u001b[0m\u001b[0mfigsize\u001b[0m \u001b[0;34m=\u001b[0m \u001b[0;34m(\u001b[0m\u001b[0;36m12\u001b[0m\u001b[0;34m,\u001b[0m\u001b[0;36m7\u001b[0m\u001b[0;34m)\u001b[0m\u001b[0;34m)\u001b[0m\u001b[0;34m\u001b[0m\u001b[0;34m\u001b[0m\u001b[0m\n",
            "\u001b[0;31mNameError\u001b[0m: name 'c_matrix' is not defined"
          ]
        }
      ],
      "source": [
        "    cf_matrix = c_matrix(y_true, y_pred)\n",
        "\n",
        "    df_cm = pd.DataFrame(cf_matrix/len(y_pred), index = ['True NonViable', 'True Viable'],\n",
        "                        columns = ['Predicted Nonviable', ' Predicted Viable'])\n",
        "    plt.figure(figsize = (12,7))\n",
        "    sn.heatmap(df_cm, annot=True)\n",
        "    plt.show()\n"
      ]
    },
    {
      "cell_type": "code",
      "execution_count": null,
      "metadata": {
        "colab": {
          "base_uri": "https://localhost:8080/",
          "height": 166
        },
        "id": "XNJ93N1eeawy",
        "outputId": "952edadd-07e8-426f-f860-c002d4a2903e"
      },
      "outputs": [
        {
          "ename": "NameError",
          "evalue": "ignored",
          "output_type": "error",
          "traceback": [
            "\u001b[0;31m---------------------------------------------------------------------------\u001b[0m",
            "\u001b[0;31mNameError\u001b[0m                                 Traceback (most recent call last)",
            "\u001b[0;32m<ipython-input-2-c61f3873e9aa>\u001b[0m in \u001b[0;36m<cell line: 1>\u001b[0;34m()\u001b[0m\n\u001b[0;32m----> 1\u001b[0;31m \u001b[0mc_matrix\u001b[0m\u001b[0;34m(\u001b[0m\u001b[0mtest_loader\u001b[0m\u001b[0;34m)\u001b[0m\u001b[0;34m\u001b[0m\u001b[0;34m\u001b[0m\u001b[0m\n\u001b[0m",
            "\u001b[0;31mNameError\u001b[0m: name 'c_matrix' is not defined"
          ]
        }
      ],
      "source": [
        "c_matrix(test_loader)"
      ]
    },
    {
      "cell_type": "code",
      "execution_count": null,
      "metadata": {
        "colab": {
          "base_uri": "https://localhost:8080/",
          "height": 391
        },
        "id": "WBD38kU5jvPl",
        "outputId": "7e27028a-e86e-4423-da4c-ddc979e4a1dc"
      },
      "outputs": [
        {
          "name": "stdout",
          "output_type": "stream",
          "text": [
            "Training: 99.36842105263158\n",
            "Test:\n",
            "Accuracy of nonviable : 96 %\n",
            "Accuracy of viable : 98 %\n",
            "Total Accuracy: 97 %\n",
            "December Images:\n",
            "Accuracy of nonviable : 87 %\n",
            "Accuracy of viable : 100 %\n",
            "Total Accuracy: 92 %\n"
          ]
        },
        {
          "ename": "NameError",
          "evalue": "ignored",
          "output_type": "error",
          "traceback": [
            "\u001b[0;31m---------------------------------------------------------------------------\u001b[0m",
            "\u001b[0;31mNameError\u001b[0m                                 Traceback (most recent call last)",
            "\u001b[0;32m<ipython-input-34-7a1beec9fced>\u001b[0m in \u001b[0;36m<cell line: 18>\u001b[0;34m()\u001b[0m\n\u001b[1;32m     16\u001b[0m \u001b[0mtestClasses\u001b[0m\u001b[0;34m(\u001b[0m\u001b[0mtst2_loader\u001b[0m\u001b[0;34m)\u001b[0m\u001b[0;34m\u001b[0m\u001b[0;34m\u001b[0m\u001b[0m\n\u001b[1;32m     17\u001b[0m \u001b[0;31m# print(testAccuracy(tst2_loader))\u001b[0m\u001b[0;34m\u001b[0m\u001b[0;34m\u001b[0m\u001b[0m\n\u001b[0;32m---> 18\u001b[0;31m \u001b[0mcf_matrix\u001b[0m\u001b[0;34m(\u001b[0m\u001b[0mtst2_loader\u001b[0m\u001b[0;34m)\u001b[0m\u001b[0;34m\u001b[0m\u001b[0;34m\u001b[0m\u001b[0m\n\u001b[0m\u001b[1;32m     19\u001b[0m \u001b[0;31m# testBatch(model, tst2_loader)\u001b[0m\u001b[0;34m\u001b[0m\u001b[0;34m\u001b[0m\u001b[0m\n\u001b[1;32m     20\u001b[0m \u001b[0;34m\u001b[0m\u001b[0m\n",
            "\u001b[0;31mNameError\u001b[0m: name 'cf_matrix' is not defined"
          ]
        }
      ],
      "source": [
        "# Let's load the model we just created and test the accuracy per label\n",
        "model2 = model\n",
        "# path = \"/content/drive/MyDrive/Eggs/Prebuilt model.pth\"\n",
        "path = \"/content/myFirstModel.pth\"\n",
        "path = \"/content/drive/MyDrive/Eggs/Final Model.pth\"\n",
        "model.load_state_dict(torch.load(path))\n",
        "\n",
        "# Test with batch of images\n",
        "model.to(torch.device(\"cuda\" if torch.cuda.is_available() else \"cpu\"))\n",
        "print(\"Training:\", end=\" \")\n",
        "print(testAccuracy(trn_loader))\n",
        "print(\"Test:\")\n",
        "# print(testAccuracy(tst_loader))\n",
        "testClasses(tst_loader)\n",
        "print(\"December Images:\")\n",
        "testClasses(tst2_loader)\n",
        "# print(testAccuracy(tst2_loader))\n",
        "cf_matrix(tst2_loader)\n",
        "# testBatch(model, tst2_loader)\n",
        "\n",
        "\n",
        "\n",
        "\n"
      ]
    },
    {
      "cell_type": "code",
      "execution_count": null,
      "metadata": {
        "colab": {
          "base_uri": "https://localhost:8080/",
          "height": 452
        },
        "id": "wGwcZaV14Bsd",
        "outputId": "c0560764-da4b-423e-f781-c1c514dc3222"
      },
      "outputs": [
        {
          "data": {
            "image/png": "[encoded data removed]",
            "text/plain": [
              "<Figure size 640x480 with 1 Axes>"
            ]
          },
          "metadata": {},
          "output_type": "display_data"
        }
      ],
      "source": [
        "model.to(torch.device(\"cpu\"))\n",
        "print_wrong(tst_loader)"
      ]
    },
    {
      "cell_type": "markdown",
      "metadata": {
        "id": "AkhI4ETeOCUH"
      },
      "source": [
        "# Testing Network"
      ]
    },
    {
      "cell_type": "code",
      "execution_count": null,
      "metadata": {
        "id": "1k2ml0XOEjXZ"
      },
      "outputs": [],
      "source": [
        "def imageshow2(img):\n",
        "    img = img / 2 + 0.5     # unnormalize\n",
        "    npimg = img.detach().numpy()\n",
        "    plt.imshow(np.transpose(npimg, (1, 2, 0)))\n",
        "    plt.show()"
      ]
    },
    {
      "cell_type": "code",
      "execution_count": null,
      "metadata": {
        "id": "x7w2sRFdOANP"
      },
      "outputs": [],
      "source": [
        "import torch\n",
        "import torch.nn as nn\n",
        "import torchvision\n",
        "import torch.nn.functional as F\n",
        "\n",
        "from PIL import ImageFile, Image\n",
        "ImageFile.LOAD_TRUNCATED_IMAGES = True\n",
        "\n",
        "class Testing_Network(nn.Module):\n",
        "    def __init__(self, num_classes=2):\n",
        "        super(Testing_Network, self).__init__()\n",
        "\n",
        "        self.conv1 = nn.Conv2d(in_channels=3, out_channels=3, kernel_size=3, stride=1, padding=1)\n",
        "        self.relu1 = nn.ReLU()\n",
        "\n",
        "        # self.conv2 = nn.Conv2d(in_channels=12, out_channels=12, kernel_size=3, stride=1, padding=1)\n",
        "        # self.relu2 = nn.ReLU()\n",
        "\n",
        "        self.pool = nn.MaxPool2d(kernel_size=2)\n",
        "\n",
        "        # self.conv3 = nn.Conv2d(in_channels=12, out_channels=24, kernel_size=3, stride=1, padding=1)\n",
        "        # self.relu3 = nn.ReLU()\n",
        "\n",
        "        # self.conv4 = nn.Conv2d(in_channels=24, out_channels=24, kernel_size=3, stride=1, padding=1)\n",
        "        # self.relu4 = nn.ReLU()\n",
        "\n",
        "        self.fc = nn.Linear(in_features=112 * 112 * 3, out_features=num_classes)\n",
        "\n",
        "    def forward(self, input):\n",
        "        output = self.conv1(input)\n",
        "        output = self.relu1(output)\n",
        "\n",
        "        # imageshow2(output)\n",
        "\n",
        "        # output = self.conv2(output)\n",
        "        # output = self.relu2(output)\n",
        "\n",
        "        output = self.pool(output)\n",
        "        imageshow2(output)\n",
        "\n",
        "        # imageshow(torchvision.utils.make_grid(output))\n",
        "        # output = self.conv3(output)\n",
        "        # output = self.relu3(output)\n",
        "\n",
        "        # output = self.conv4(output)\n",
        "        # output = self.relu4(output)\n",
        "        # print(output.shape)\n",
        "        output = output.view(-1, 112 * 112 * 3)\n",
        "\n",
        "        # imageshow(torchvision.utils.make_grid(output))\n",
        "\n",
        "        output = self.fc(output)\n",
        "\n",
        "        return output\n",
        "\n",
        "# Instantiate a neural network model\n",
        "testing_model = Testing_Network()"
      ]
    },
    {
      "cell_type": "code",
      "execution_count": null,
      "metadata": {
        "colab": {
          "base_uri": "https://localhost:8080/",
          "height": 496
        },
        "id": "FU-MS4WyOtGR",
        "outputId": "42ef5c87-ec94-4490-8915-6112facf6592"
      },
      "outputs": [
        {
          "ename": "RuntimeError",
          "evalue": "ignored",
          "output_type": "error",
          "traceback": [
            "\u001b[0;31m---------------------------------------------------------------------------\u001b[0m",
            "\u001b[0;31mRuntimeError\u001b[0m                              Traceback (most recent call last)",
            "\u001b[0;32m<ipython-input-33-bbd94a939fb8>\u001b[0m in \u001b[0;36m<module>\u001b[0;34m\u001b[0m\n\u001b[0;32m----> 1\u001b[0;31m \u001b[0mtesting_model\u001b[0m\u001b[0;34m.\u001b[0m\u001b[0mload_state_dict\u001b[0m\u001b[0;34m(\u001b[0m\u001b[0mtorch\u001b[0m\u001b[0;34m.\u001b[0m\u001b[0mload\u001b[0m\u001b[0;34m(\u001b[0m\u001b[0mpath\u001b[0m\u001b[0;34m)\u001b[0m\u001b[0;34m)\u001b[0m\u001b[0;34m\u001b[0m\u001b[0;34m\u001b[0m\u001b[0m\n\u001b[0m\u001b[1;32m      2\u001b[0m \u001b[0;34m\u001b[0m\u001b[0m\n\u001b[1;32m      3\u001b[0m \u001b[0mnum\u001b[0m \u001b[0;34m=\u001b[0m \u001b[0;36m0\u001b[0m\u001b[0;34m\u001b[0m\u001b[0;34m\u001b[0m\u001b[0m\n\u001b[1;32m      4\u001b[0m \u001b[0;32mfor\u001b[0m \u001b[0mi\u001b[0m \u001b[0;32min\u001b[0m \u001b[0mrange\u001b[0m\u001b[0;34m(\u001b[0m\u001b[0mlen\u001b[0m\u001b[0;34m(\u001b[0m\u001b[0mtst_data\u001b[0m\u001b[0;34m)\u001b[0m\u001b[0;34m)\u001b[0m\u001b[0;34m:\u001b[0m\u001b[0;34m\u001b[0m\u001b[0;34m\u001b[0m\u001b[0m\n\u001b[1;32m      5\u001b[0m   \u001b[0;32mif\u001b[0m \u001b[0mtst_data\u001b[0m\u001b[0;34m[\u001b[0m\u001b[0mi\u001b[0m\u001b[0;34m]\u001b[0m\u001b[0;34m[\u001b[0m\u001b[0;36m1\u001b[0m\u001b[0;34m]\u001b[0m \u001b[0;34m==\u001b[0m \u001b[0;36m0\u001b[0m\u001b[0;34m:\u001b[0m\u001b[0;34m\u001b[0m\u001b[0;34m\u001b[0m\u001b[0m\n",
            "\u001b[0;32m/usr/local/lib/python3.8/dist-packages/torch/nn/modules/module.py\u001b[0m in \u001b[0;36mload_state_dict\u001b[0;34m(self, state_dict, strict)\u001b[0m\n\u001b[1;32m   1669\u001b[0m \u001b[0;34m\u001b[0m\u001b[0m\n\u001b[1;32m   1670\u001b[0m         \u001b[0;32mif\u001b[0m \u001b[0mlen\u001b[0m\u001b[0;34m(\u001b[0m\u001b[0merror_msgs\u001b[0m\u001b[0;34m)\u001b[0m \u001b[0;34m>\u001b[0m \u001b[0;36m0\u001b[0m\u001b[0;34m:\u001b[0m\u001b[0;34m\u001b[0m\u001b[0;34m\u001b[0m\u001b[0m\n\u001b[0;32m-> 1671\u001b[0;31m             raise RuntimeError('Error(s) in loading state_dict for {}:\\n\\t{}'.format(\n\u001b[0m\u001b[1;32m   1672\u001b[0m                                self.__class__.__name__, \"\\n\\t\".join(error_msgs)))\n\u001b[1;32m   1673\u001b[0m         \u001b[0;32mreturn\u001b[0m \u001b[0m_IncompatibleKeys\u001b[0m\u001b[0;34m(\u001b[0m\u001b[0mmissing_keys\u001b[0m\u001b[0;34m,\u001b[0m \u001b[0munexpected_keys\u001b[0m\u001b[0;34m)\u001b[0m\u001b[0;34m\u001b[0m\u001b[0;34m\u001b[0m\u001b[0m\n",
            "\u001b[0;31mRuntimeError\u001b[0m: Error(s) in loading state_dict for Testing_Network:\n\tUnexpected key(s) in state_dict: \"conv2.weight\", \"conv2.bias\", \"conv3.weight\", \"conv3.bias\", \"conv4.weight\", \"conv4.bias\". \n\tsize mismatch for conv1.weight: copying a param with shape torch.Size([12, 3, 3, 3]) from checkpoint, the shape in current model is torch.Size([3, 3, 3, 3]).\n\tsize mismatch for conv1.bias: copying a param with shape torch.Size([12]) from checkpoint, the shape in current model is torch.Size([3]).\n\tsize mismatch for fc.weight: copying a param with shape torch.Size([2, 301056]) from checkpoint, the shape in current model is torch.Size([2, 37632])."
          ]
        }
      ],
      "source": [
        "testing_model.load_state_dict(torch.load(path))\n",
        "\n",
        "num = 0\n",
        "for i in range(len(tst_data)):\n",
        "  if tst_data[i][1] == 0:\n",
        "    num = i\n",
        "imageshow2(tst_data[num][0])\n",
        "print(\"Actual: \"+classes[tst_data[num][1]])\n",
        "outputs = testing_model(tst_data[num][0])\n",
        "_, predicted = torch.max(outputs, 1)\n",
        "print(\" Guess: \"+classes[predicted[0]])\n",
        "\n",
        "num = 0\n",
        "for i in range(len(tst_data)):\n",
        "  if tst_data[i][1] == 1:\n",
        "    num = i\n",
        "imageshow2(tst_data[num][0])\n",
        "print(\"Actual: \"+classes[tst_data[num][1]])\n",
        "outputs = testing_model(tst_data[num][0])\n",
        "_, predicted = torch.max(outputs, 1)\n",
        "print(\" Guess: \"+classes[predicted[0]])"
      ]
    },
    {
      "cell_type": "code",
      "execution_count": null,
      "metadata": {
        "colab": {
          "base_uri": "https://localhost:8080/",
          "height": 165
        },
        "id": "PjCRPI9eNfGl",
        "outputId": "53d57f66-5d69-46ad-8da7-ccc299581150"
      },
      "outputs": [
        {
          "ename": "NameError",
          "evalue": "ignored",
          "output_type": "error",
          "traceback": [
            "\u001b[0;31m---------------------------------------------------------------------------\u001b[0m",
            "\u001b[0;31mNameError\u001b[0m                                 Traceback (most recent call last)",
            "\u001b[0;32m<ipython-input-1-278c5fb8dd2e>\u001b[0m in \u001b[0;36m<module>\u001b[0;34m\u001b[0m\n\u001b[0;32m----> 1\u001b[0;31m \u001b[0mtestBatch\u001b[0m\u001b[0;34m(\u001b[0m\u001b[0mtesting_model\u001b[0m\u001b[0;34m)\u001b[0m\u001b[0;34m\u001b[0m\u001b[0;34m\u001b[0m\u001b[0m\n\u001b[0m",
            "\u001b[0;31mNameError\u001b[0m: name 'testBatch' is not defined"
          ]
        }
      ],
      "source": [
        "testBatch(testing_model)"
      ]
    }
  ],
  "metadata": {
    "accelerator": "GPU",
    "colab": {
      "collapsed_sections": [
        "Zsna4pC5HpQo",
        "4kqq-1jHAIq-",
        "ARXN1JuJABYc"
      ],
      "toc_visible": true,
      "provenance": []
    },
    "gpuClass": "standard",
    "kernelspec": {
      "display_name": "Python 3",
      "name": "python3"
    },
    "language_info": {
      "name": "python"
    }
  },
  "nbformat": 4,
  "nbformat_minor": 0
}